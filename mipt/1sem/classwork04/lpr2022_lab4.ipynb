{
 "cells": [
  {
   "cell_type": "markdown",
   "metadata": {
    "id": "2lDN8d3mkuSJ"
   },
   "source": [
    "### Аннотация\n",
    "\n",
    "Ноутбук составлен на основе материалов [[1]](https://github.com/SciProgCentre/python-scientific-book/blob/master/pages/StudentEdition/05.ipynb), [[2]](https://github.com/SciProgCentre/python-scientific-book/blob/master/pages/StudentEdition/07.ipynb)\n",
    "\n",
    "\n",
    "\n"
   ]
  },
  {
   "cell_type": "markdown",
   "metadata": {
    "id": "dIBwtgyjkuSP"
   },
   "source": [
    "## Создание Numpy массивов"
   ]
  },
  {
   "cell_type": "markdown",
   "metadata": {
    "id": "iSWU4YBpkuSQ"
   },
   "source": [
    "# NumPy\n"
   ]
  },
  {
   "cell_type": "code",
   "execution_count": 1,
   "metadata": {
    "colab": {
     "base_uri": "https://localhost:8080/",
     "height": 244
    },
    "id": "K2gKj-yMkuSR",
    "outputId": "e2ac3d13-a0b4-4b2d-a691-d1462173a80e",
    "scrolled": true
   },
   "outputs": [
    {
     "name": "stdout",
     "output_type": "stream",
     "text": [
      "[1. 2. 3.]\n",
      "\n",
      "[-1. -1. -1. -1. -1. -1. -1. -1. -1. -1.]\n",
      "\n",
      "[[0. 0. 0. 0. 0.]\n",
      " [0. 0. 0. 0. 0.]\n",
      " [0. 0. 0. 0. 0.]]\n",
      "\n",
      "[[[1. 1.]\n",
      "  [1. 1.]]\n",
      "\n",
      " [[1. 1.]\n",
      "  [1. 1.]]]\n",
      "\n",
      "[[1. 0. 0. 0. 0.]\n",
      " [0. 1. 0. 0. 0.]\n",
      " [0. 0. 1. 0. 0.]\n",
      " [0. 0. 0. 1. 0.]\n",
      " [0. 0. 0. 0. 1.]]\n",
      "(3, 5)\n"
     ]
    }
   ],
   "source": [
    "\n",
    "import numpy as np\n",
    "a = np.array([1, 2, 3], float) # Однмемерный массив из списка \n",
    "b = np.repeat(-1. ,10) # Массив полученные повоторением исходного объекта\n",
    "c = np.zeros((3, 5)) # Матрица из нулей размера 3х5\n",
    "d = np.ones((2, 2, 2)) # Трехмерный массив из единиц\n",
    "e = np.eye(5) # Единичная матрица\n",
    "print(a, b, c, d, e, sep='\\n\\n')\n",
    "print(c.shape) # Возвращает размерность массива, для двумерного это количество строк и столбцов"
   ]
  },
  {
   "cell_type": "markdown",
   "metadata": {
    "id": "BEnm0TdfkuST"
   },
   "source": [
    "## Арифметические операции с массивами  и векторизация\n",
    "\n",
    "\n",
    "\n",
    "Полезной особенностью numpy-массивов является так называемая _векторизация_ --- возможность делать быстрые поэлементные операции с массивами без использования цикла `for`."
   ]
  },
  {
   "cell_type": "code",
   "execution_count": 2,
   "metadata": {
    "id": "ip42tWQbkuSU",
    "outputId": "cbf05f52-0ce4-4958-e9ee-a91e23d9b6a4"
   },
   "outputs": [
    {
     "name": "stdout",
     "output_type": "stream",
     "text": [
      "[6. 6. 9.]\n",
      "[-4.  2. -3.]\n",
      "[ 5.  8. 18.]\n",
      "[5.  0.5 2. ]\n",
      "[1. 0. 3.]\n",
      "[  5.  16. 216.]\n",
      "[1.         2.         1.73205081]\n",
      "8.0\n",
      "60.0\n",
      "31.0\n",
      "[ True False  True]\n",
      "[1.         0.25       0.33333333]\n"
     ]
    }
   ],
   "source": [
    "a = np.array([1, 4, 3], float)\n",
    "b = np.array([5, 2, 6], float)\n",
    "print(a + b)\n",
    "print(a - b)\n",
    "print(a * b)\n",
    "print(b / a)\n",
    "print(a % b)\n",
    "print(b ** a)\n",
    "print(np.sqrt(a))\n",
    "print(np.sum(a))\n",
    "print(np.prod(b))\n",
    "print(a.dot(b)) # Скалярное произведение\n",
    "print(b > a)\n",
    "print(np.where(a != 2, 1/a, a))"
   ]
  },
  {
   "cell_type": "markdown",
   "metadata": {
    "id": "wi_V7nkZkuSV"
   },
   "source": [
    "## Линейная алгебра\n",
    "\n",
    "NumPy также предоставляет набор встроенных функций и методов для работы с линейной алгеброй. Это всё можно найти в под-модуле `linalg`."
   ]
  },
  {
   "cell_type": "code",
   "execution_count": 3,
   "metadata": {
    "id": "HQRogEUzkuSV",
    "outputId": "1a352ae8-b969-4e9c-c966-aea3f1237992"
   },
   "outputs": [
    {
     "name": "stdout",
     "output_type": "stream",
     "text": [
      "-48.00000000000003\n",
      "[ 8.85591316  1.9391628  -2.79507597]\n",
      "[[-0.3663565  -0.54736745  0.25928158]\n",
      " [-0.88949768  0.5640176  -0.88091903]\n",
      " [-0.27308752  0.61828231  0.39592263]]\n"
     ]
    }
   ],
   "source": [
    "a = np.array([[4, 2, 0], [9, 3, 7], [1, 2, 1]], float)\n",
    "b = a.T # Транспонированый массив\n",
    "print(np.linalg.det(a)) # Ищем детерминант \n",
    "vals, vecs = np.linalg.eig(a)\n",
    "print(vals)\n",
    "print(vecs)"
   ]
  },
  {
   "cell_type": "markdown",
   "metadata": {
    "id": "s_KDBIikkuSW"
   },
   "source": [
    "## Операции с индексами \n",
    "Оперативная память компьютера линейна, и поэтому даже многомерные массивы, на самом деле являются некоторыми линейными структурами, над которыми существуют система индексов, говорящих как именно читать этот линейный блок. Проведение операций над индексами в большистве случаев эффективно и поэтому операции смены размерности массива или транспонирования выполняются быстро"
   ]
  },
  {
   "cell_type": "code",
   "execution_count": 4,
   "metadata": {
    "id": "ryrr8yMskuSX",
    "outputId": "e1506e2b-8bbe-4a92-a657-bfa0ce468bf3"
   },
   "outputs": [
    {
     "name": "stdout",
     "output_type": "stream",
     "text": [
      "[[1 3]\n",
      " [2 4]]\n"
     ]
    }
   ],
   "source": [
    "a = np.asarray([[1, 2], [3, 4]])\n",
    "b = a.T # Транспонированый массив\n",
    "print(b)"
   ]
  },
  {
   "cell_type": "code",
   "execution_count": 5,
   "metadata": {
    "id": "wVRLuFY4kuSY",
    "outputId": "caf735af-c8a5-455c-8c59-30506325accd"
   },
   "outputs": [
    {
     "name": "stdout",
     "output_type": "stream",
     "text": [
      "[[10  3]\n",
      " [ 2  4]]\n"
     ]
    }
   ],
   "source": [
    "b[0, 0] = 10\n",
    "print(b)"
   ]
  },
  {
   "cell_type": "code",
   "execution_count": 6,
   "metadata": {
    "id": "he4Xuy3nkuSY",
    "outputId": "50835c72-2cf0-413f-8091-c22cab9f02a2"
   },
   "outputs": [
    {
     "name": "stdout",
     "output_type": "stream",
     "text": [
      "[[10  2]\n",
      " [ 3  4]]\n"
     ]
    }
   ],
   "source": [
    "print(a)"
   ]
  },
  {
   "cell_type": "markdown",
   "metadata": {
    "id": "5XTKw5X8kuSZ"
   },
   "source": [
    "Как мы видим при изменени переменной `b` изменилась переменная `a`. Это произошло потому, что обе эти переменные использубют один и тот же кусок памяти, но по разному "
   ]
  },
  {
   "cell_type": "markdown",
   "metadata": {
    "id": "CLN5HwmPkuSZ"
   },
   "source": [
    "## Срезы\n",
    "\n",
    "В numpy реализован удобный способ работы с элементами матрицы. Он позволяет пройтись по элементам с определенным шагом и в определенном направлении.\n",
    "\n",
    "Пусть у нас есть двумерная матрица. Стоит запомнить следущий синтаксис:\n",
    "- `[:]` -- получить все элементы матрицы\n",
    "- `[:, 0]` -- получить первый столбец матрицы\n",
    "- `[2, :]` -- получить третью строку матрицы\n",
    "- `[-2, :]` -- получить вторую строку матрицы с конца\n",
    "- `[::3, 0]` -- получить каждый третий элемент из первой строки\n",
    "- `[1:-1:3, 0]`-- получить каждый третий элемент первой строки начиная со второго и, возможно, закнчивая предпоследним"
   ]
  },
  {
   "cell_type": "code",
   "execution_count": 7,
   "metadata": {
    "id": "XUMbzoN_kuSZ"
   },
   "outputs": [
    {
     "name": "stdout",
     "output_type": "stream",
     "text": [
      "[  0   4   8  12  16  20  24  28  32  36  40  44  48  52  56  60  64  68\n",
      "  72  76  80  84  88  92  96 100 104 108 112 116 120 124 128 132 136 140\n",
      " 144 148 152 156 160 164 168 172 176 180 184 188 192 196 200 204 208 212\n",
      " 216 220 224 228 232 236 240 244 248 252 256 260 264 268 272 276 280 284\n",
      " 288 292 296 300 304 308 312 316 320]\n",
      "\n",
      "(81,)\n",
      "\n",
      "\n",
      "\n",
      "[[  0   4   8  12  16  20  24  28  32]\n",
      " [ 36  40  44  48  52  56  60  64  68]\n",
      " [ 72  76  80  84  88  92  96 100 104]\n",
      " [108 112 116 120 124 128 132 136 140]\n",
      " [144 148 152 156 160 164 168 172 176]\n",
      " [180 184 188 192 196 200 204 208 212]\n",
      " [216 220 224 228 232 236 240 244 248]\n",
      " [252 256 260 264 268 272 276 280 284]\n",
      " [288 292 296 300 304 308 312 316 320]]\n",
      "\n",
      "(9, 9)\n",
      "\n",
      "\n",
      "\n",
      "[[  0   8  16  24  32]\n",
      " [ 72  80  88  96 104]\n",
      " [144 152 160 168 176]\n",
      " [216 224 232 240 248]\n",
      " [288 296 304 312 320]] \n",
      "\n",
      "[[0.  2.4 4.8]\n",
      " [2.4 4.8 7.2]\n",
      " [4.8 7.2 9.6]] \n",
      "\n"
     ]
    }
   ],
   "source": [
    "array = np.array([i for i in range(0, 81*4, 4)])\n",
    "print(array, array.shape, \"\\n\", sep=\"\\n\\n\")\n",
    "\n",
    "matrix = array.reshape(9, 9)\n",
    "print(matrix, matrix.shape, \"\\n\", sep=\"\\n\\n\")\n",
    "\n",
    "print(matrix[::2, ::2], \"\\n\")\n",
    "\n",
    "print((matrix[::3, ::3] + matrix[::3, ::3].T) / 50, \"\\n\")"
   ]
  },
  {
   "cell_type": "markdown",
   "metadata": {
    "id": "rIxmu6U1kuSa"
   },
   "source": [
    "## Чтение даных\n",
    "\n",
    "Numpy также предоставляет функционал для чтения данных, который бывает весьма полезен"
   ]
  },
  {
   "cell_type": "code",
   "execution_count": 8,
   "metadata": {
    "id": "S4YNnliqkuSa",
    "outputId": "9d8d83c6-d9c4-4be2-be49-469888392dd7"
   },
   "outputs": [
    {
     "name": "stdout",
     "output_type": "stream",
     "text": [
      "cat: data/data.txt: No such file or directory\r\n"
     ]
    }
   ],
   "source": [
    "!cat data/data.txt"
   ]
  },
  {
   "cell_type": "code",
   "execution_count": 9,
   "metadata": {
    "id": "K-2tN3yrkuSa",
    "outputId": "a459c4db-8c32-42a1-a6f4-f74b641813be"
   },
   "outputs": [
    {
     "ename": "OSError",
     "evalue": "./data/data.txt not found.",
     "output_type": "error",
     "traceback": [
      "\u001b[0;31m---------------------------------------------------------------------------\u001b[0m",
      "\u001b[0;31mOSError\u001b[0m                                   Traceback (most recent call last)",
      "\u001b[0;32m/tmp/ipykernel_15207/3947457864.py\u001b[0m in \u001b[0;36m<module>\u001b[0;34m\u001b[0m\n\u001b[0;32m----> 1\u001b[0;31m \u001b[0mdata\u001b[0m \u001b[0;34m=\u001b[0m \u001b[0mnp\u001b[0m\u001b[0;34m.\u001b[0m\u001b[0mloadtxt\u001b[0m\u001b[0;34m(\u001b[0m\u001b[0;34m'./data/data.txt'\u001b[0m\u001b[0;34m)\u001b[0m\u001b[0;34m\u001b[0m\u001b[0;34m\u001b[0m\u001b[0m\n\u001b[0m\u001b[1;32m      2\u001b[0m \u001b[0mdata\u001b[0m\u001b[0;34m\u001b[0m\u001b[0;34m\u001b[0m\u001b[0m\n",
      "\u001b[0;32m/opt/rh/rh-python38/root/usr/local/lib64/python3.8/site-packages/numpy/lib/npyio.py\u001b[0m in \u001b[0;36mloadtxt\u001b[0;34m(fname, dtype, comments, delimiter, converters, skiprows, usecols, unpack, ndmin, encoding, max_rows, like)\u001b[0m\n\u001b[1;32m   1065\u001b[0m             \u001b[0mfname\u001b[0m \u001b[0;34m=\u001b[0m \u001b[0mos_fspath\u001b[0m\u001b[0;34m(\u001b[0m\u001b[0mfname\u001b[0m\u001b[0;34m)\u001b[0m\u001b[0;34m\u001b[0m\u001b[0;34m\u001b[0m\u001b[0m\n\u001b[1;32m   1066\u001b[0m         \u001b[0;32mif\u001b[0m \u001b[0m_is_string_like\u001b[0m\u001b[0;34m(\u001b[0m\u001b[0mfname\u001b[0m\u001b[0;34m)\u001b[0m\u001b[0;34m:\u001b[0m\u001b[0;34m\u001b[0m\u001b[0;34m\u001b[0m\u001b[0m\n\u001b[0;32m-> 1067\u001b[0;31m             \u001b[0mfh\u001b[0m \u001b[0;34m=\u001b[0m \u001b[0mnp\u001b[0m\u001b[0;34m.\u001b[0m\u001b[0mlib\u001b[0m\u001b[0;34m.\u001b[0m\u001b[0m_datasource\u001b[0m\u001b[0;34m.\u001b[0m\u001b[0mopen\u001b[0m\u001b[0;34m(\u001b[0m\u001b[0mfname\u001b[0m\u001b[0;34m,\u001b[0m \u001b[0;34m'rt'\u001b[0m\u001b[0;34m,\u001b[0m \u001b[0mencoding\u001b[0m\u001b[0;34m=\u001b[0m\u001b[0mencoding\u001b[0m\u001b[0;34m)\u001b[0m\u001b[0;34m\u001b[0m\u001b[0;34m\u001b[0m\u001b[0m\n\u001b[0m\u001b[1;32m   1068\u001b[0m             \u001b[0mfencoding\u001b[0m \u001b[0;34m=\u001b[0m \u001b[0mgetattr\u001b[0m\u001b[0;34m(\u001b[0m\u001b[0mfh\u001b[0m\u001b[0;34m,\u001b[0m \u001b[0;34m'encoding'\u001b[0m\u001b[0;34m,\u001b[0m \u001b[0;34m'latin1'\u001b[0m\u001b[0;34m)\u001b[0m\u001b[0;34m\u001b[0m\u001b[0;34m\u001b[0m\u001b[0m\n\u001b[1;32m   1069\u001b[0m             \u001b[0mfh\u001b[0m \u001b[0;34m=\u001b[0m \u001b[0miter\u001b[0m\u001b[0;34m(\u001b[0m\u001b[0mfh\u001b[0m\u001b[0;34m)\u001b[0m\u001b[0;34m\u001b[0m\u001b[0;34m\u001b[0m\u001b[0m\n",
      "\u001b[0;32m/opt/rh/rh-python38/root/usr/local/lib64/python3.8/site-packages/numpy/lib/_datasource.py\u001b[0m in \u001b[0;36mopen\u001b[0;34m(path, mode, destpath, encoding, newline)\u001b[0m\n\u001b[1;32m    191\u001b[0m \u001b[0;34m\u001b[0m\u001b[0m\n\u001b[1;32m    192\u001b[0m     \u001b[0mds\u001b[0m \u001b[0;34m=\u001b[0m \u001b[0mDataSource\u001b[0m\u001b[0;34m(\u001b[0m\u001b[0mdestpath\u001b[0m\u001b[0;34m)\u001b[0m\u001b[0;34m\u001b[0m\u001b[0;34m\u001b[0m\u001b[0m\n\u001b[0;32m--> 193\u001b[0;31m     \u001b[0;32mreturn\u001b[0m \u001b[0mds\u001b[0m\u001b[0;34m.\u001b[0m\u001b[0mopen\u001b[0m\u001b[0;34m(\u001b[0m\u001b[0mpath\u001b[0m\u001b[0;34m,\u001b[0m \u001b[0mmode\u001b[0m\u001b[0;34m,\u001b[0m \u001b[0mencoding\u001b[0m\u001b[0;34m=\u001b[0m\u001b[0mencoding\u001b[0m\u001b[0;34m,\u001b[0m \u001b[0mnewline\u001b[0m\u001b[0;34m=\u001b[0m\u001b[0mnewline\u001b[0m\u001b[0;34m)\u001b[0m\u001b[0;34m\u001b[0m\u001b[0;34m\u001b[0m\u001b[0m\n\u001b[0m\u001b[1;32m    194\u001b[0m \u001b[0;34m\u001b[0m\u001b[0m\n\u001b[1;32m    195\u001b[0m \u001b[0;34m\u001b[0m\u001b[0m\n",
      "\u001b[0;32m/opt/rh/rh-python38/root/usr/local/lib64/python3.8/site-packages/numpy/lib/_datasource.py\u001b[0m in \u001b[0;36mopen\u001b[0;34m(self, path, mode, encoding, newline)\u001b[0m\n\u001b[1;32m    531\u001b[0m                                       encoding=encoding, newline=newline)\n\u001b[1;32m    532\u001b[0m         \u001b[0;32melse\u001b[0m\u001b[0;34m:\u001b[0m\u001b[0;34m\u001b[0m\u001b[0;34m\u001b[0m\u001b[0m\n\u001b[0;32m--> 533\u001b[0;31m             \u001b[0;32mraise\u001b[0m \u001b[0mIOError\u001b[0m\u001b[0;34m(\u001b[0m\u001b[0;34m\"%s not found.\"\u001b[0m \u001b[0;34m%\u001b[0m \u001b[0mpath\u001b[0m\u001b[0;34m)\u001b[0m\u001b[0;34m\u001b[0m\u001b[0;34m\u001b[0m\u001b[0m\n\u001b[0m\u001b[1;32m    534\u001b[0m \u001b[0;34m\u001b[0m\u001b[0m\n\u001b[1;32m    535\u001b[0m \u001b[0;34m\u001b[0m\u001b[0m\n",
      "\u001b[0;31mOSError\u001b[0m: ./data/data.txt not found."
     ]
    }
   ],
   "source": [
    "data = np.loadtxt('./data/data.txt')\n",
    "data"
   ]
  },
  {
   "cell_type": "markdown",
   "metadata": {
    "id": "2w6j-jbmkuSa"
   },
   "source": [
    "## Задание по numpy\n",
    "\n",
    "1. Создайте вектор с элементами от 1 до 99 включительно\n",
    "2. Выведите все значения с шагом 3\n",
    "3. Посчитайте сумму троек элементов из предыдущего пункта\n",
    "4. Сделайте `reshape` для массива из предыдущего пункта в матрицу размера 11х3\n",
    "5. Транспонируйте матрицу из предыдущего пункта\n",
    "6. Произведите векторное умножение матрицы из предыдущего пункта на вектор размерности 11 из элементов от -9 до 2\n",
    "7. Запишите срез матрицы из пункта `5` в файл `matrix.dat`. Срез должен включать в себя 1, 5, 9 столбцы и 0 и 2 строки. **Подсказка**: требуется вписать элементы матрицы, которая состоит из пересечения соответсвующих столбцов и строк.\n",
    "8. Посчитайте детерминант матрицы, которая содержит в себе строки 2, 5, 8 из матрицы пункта `4`.\n",
    "9. `*`Создайте два вектора длины 10. Элементы первого вектора -- первые 10 простых чисел со знаком минус, второго вектора -- первые 10 чисел последовательности Фибоначчи. Посчитайте скалярное произведение двух векторов. **Указание**: для получения простых чисел и чисел из последовательности Фибоначчи реализуйте функции `prime_number` и `fibonacci_number`.\n",
    "10. `*`Реализуйте функцию вычисления матричной экспоненты\n",
    "$e^X = \\sum\\limits_{k = 0}^{n} \\frac{1}{k!} X^k$, $X^k$ -- матрица $X$ в степени $k$, $X^0 = I$\n",
    "\n",
    "Замечания:\n",
    "- Пункты `*` реализуются по завршению блока заданий на `matplotlib`.\n",
    "- Задания делать внутри следующей ячейки ноутбука. Если работаете в Pycharm, то сохраняйте в файлы `numpy_i.py`, где `i` указывает пункт задания.\n",
    "- Задания, или готовый ноутбук, сохранять в директории (папке) `classwork04`. **Никак иначе диеректорию не называть!**"
   ]
  },
  {
   "cell_type": "code",
   "execution_count": 31,
   "metadata": {
    "colab": {
     "base_uri": "https://localhost:8080/",
     "height": 244
    },
    "id": "C-Wn15mfkuSb",
    "outputId": "f88b0391-f902-431b-8d1d-649597fe1fd9"
   },
   "outputs": [
    {
     "name": "stdout",
     "output_type": "stream",
     "text": [
      "[[2.71828183e+00 0.00000000e+00 0.00000000e+00]\n",
      " [2.91014404e+03 3.43137095e+03 4.26547076e+03]\n",
      " [4.52471617e+03 5.32424804e+03 6.62289932e+03]]\n"
     ]
    }
   ],
   "source": [
    "import numpy as np\n",
    "\n",
    "def prime_number(n): #первые n простых чисел\n",
    "    numbers = [-2]\n",
    "    lenth = 1\n",
    "    i = 3\n",
    "    while True:\n",
    "        flag = True\n",
    "        j = 2\n",
    "        while j<int(i**0.5)+1:\n",
    "            if i % j == 0:\n",
    "                flag = False\n",
    "            j+=1\n",
    "        if flag:\n",
    "            numbers.append(-i)\n",
    "            lenth += 1\n",
    "        if n == lenth:\n",
    "            return numbers\n",
    "        i+=2\n",
    "def fibonacci_number(n): #первые n чисел фибоначи\n",
    "    numbers = [1,1]\n",
    "    lenth = 2\n",
    "    for i in range(n-2):\n",
    "      numbers.append(numbers[-1]+numbers[-2])\n",
    "    return numbers\n",
    "#X @ Y matrichnoe umnojenie\n",
    "#1\n",
    "array = np.array(range(1,100))\n",
    "#2\n",
    "array_1 = array[::3]\n",
    "array_2 = array[1::3]\n",
    "array_3 = array[2::3]\n",
    "#print(array_1)\n",
    "#3\n",
    "total_vector = array_1 + array_2 + array_3\n",
    "#print(total_vector)\n",
    "#4\n",
    "total_vector_reshaped = total_vector.reshape(11,3)\n",
    "#print(total_vector_reshaped)\n",
    "#5\n",
    "total_vector_T = total_vector_reshaped.T\n",
    "#print(total_vector_T)\n",
    "#6\n",
    "X = np.array(range(-9,2)).reshape(11,1)\n",
    "#print(X)\n",
    "prod = total_vector_T @ X\n",
    "#print(prod)\n",
    "#8\n",
    "det = np.linalg.det(total_vector_reshaped[2::3])\n",
    "#print(det)\n",
    "#9\n",
    "A = np.array(prime_number(10))\n",
    "B = np.array(fibonacci_number(10))\n",
    "C = A @ B\n",
    "#print(C)\n",
    "#10\n",
    "X = np.array([[1,0,0],[2,3,4],[4,5,6]])\n",
    "\n",
    "import numpy as np\n",
    "\n",
    "def fact(k):\n",
    "  if k == 0:\n",
    "    return 1\n",
    "  return k*fact(k-1)\n",
    "\n",
    "def X_(k, X=X):\n",
    "    if k == 1:\n",
    "        return X\n",
    "    return X @ X_(k-1, X)\n",
    "\n",
    "def e_(X,k=0,n=100):\n",
    "    while k<=n:\n",
    "        if k == 0:\n",
    "            final_array = np.eye(*X.shape)\n",
    "            k+=1\n",
    "        else:\n",
    "            final_array += np.array((1/fact(k))*(X_(k, X)))\n",
    "            k+=1\n",
    "        if k == n:\n",
    "            return final_array\n",
    "        \n",
    "print(e_(X))"
   ]
  },
  {
   "cell_type": "code",
   "execution_count": 35,
   "metadata": {
    "id": "iTMx9MaWbBMC"
   },
   "outputs": [
    {
     "data": {
      "text/plain": [
       "array([[0.36787944, 0.        , 0.        ],\n",
       "       [0.        , 0.36787944, 0.        ],\n",
       "       [0.        , 0.        , 0.36787944]])"
      ]
     },
     "execution_count": 35,
     "metadata": {},
     "output_type": "execute_result"
    }
   ],
   "source": [
    "X = np.eye(3)\n",
    "e_(-X)"
   ]
  },
  {
   "cell_type": "code",
   "execution_count": 34,
   "metadata": {
    "id": "cjbMoGneaVvE"
   },
   "outputs": [
    {
     "data": {
      "text/plain": [
       "0.36787944117144233"
      ]
     },
     "execution_count": 34,
     "metadata": {},
     "output_type": "execute_result"
    }
   ],
   "source": [
    "np.exp(-1)"
   ]
  },
  {
   "cell_type": "markdown",
   "metadata": {
    "id": "fuDpNtGkkuSb"
   },
   "source": [
    "# Matplotlib"
   ]
  },
  {
   "cell_type": "markdown",
   "metadata": {
    "id": "3gcShEPxkuSb"
   },
   "source": [
    "# Построение графиков\n",
    "\n",
    "Для построения графиков чаще всего используется `matplotlib.pyplot`. Больше информации можно найти по этим ссылкам:\n",
    "* [Научная графика в python](https://nbviewer.jupyter.org/github/whitehorn/Scientific_graphics_in_python/tree/master/) --- уроки по `matplotlib` на русском языке.\n",
    "* [Галерея  `matplotlib`](https://matplotlib.org/3.1.1/gallery/index.html) --- галерея примеров на официальном сайте `matplotlib`, выбираете нужный вам пример и смотрите как он сделан.\n",
    "\n",
    "Построить график достаточно просто:"
   ]
  },
  {
   "cell_type": "code",
   "execution_count": null,
   "metadata": {
    "colab": {
     "base_uri": "https://localhost:8080/",
     "height": 360
    },
    "id": "27BnutR4kuSc",
    "outputId": "e1d6e149-fa2e-4989-8e31-76c13ff33e5b"
   },
   "outputs": [],
   "source": [
    "import numpy as np\n",
    "import matplotlib.pyplot as plt\n",
    "%matplotlib inline\n",
    "\n",
    "x = np.linspace(-1, 1)  # Создаем массив из ста точек на промежутке (-1; 1)\n",
    "y = x**3\n",
    "plt.plot(x,y)"
   ]
  },
  {
   "cell_type": "markdown",
   "metadata": {
    "id": "tQCtZhufkuSc"
   },
   "source": [
    "Как вы можете заметить построеный график хорош всем, кромо того обстоятельства что он нарушает все правила оформления графиков для лабораторных работ. Постораемся оформить его. \n",
    "Следующая иллюстрация поможет нам узнать как называются элементы изображения:\n",
    "\n",
    "\n",
    "![](https://matplotlib.org/_images/anatomy.png)\n",
    "\n",
    "\n",
    "Используя поиск по сайту [matplotlib.org](https://matplotlib.org/3.1.1/index.html) можно подробно узнать как настроить тот или иной элемент изображения. А мы приведем краткое описание полезных функции:"
   ]
  },
  {
   "cell_type": "code",
   "execution_count": null,
   "metadata": {
    "colab": {
     "base_uri": "https://localhost:8080/",
     "height": 489
    },
    "id": "tYxYAzbakuSc",
    "outputId": "6893e53b-4d15-4100-a9ff-fe164d76abfb"
   },
   "outputs": [],
   "source": [
    "import numpy as np\n",
    "import matplotlib.pyplot as plt\n",
    "import matplotlib as mpl\n",
    "mpl.rcParams['font.size'] = 16 # Управление стилем, в данном случаем - размером шрифта \n",
    " # Создаем фигуру\n",
    "plt.figure(figsize=(7,7))\n",
    "\n",
    "# Подписываем оси и график\n",
    "plt.title(r\"Это название  графика  $y = x^3$ - да, можно использовать LaTeX:\")\n",
    "plt.ylabel(\"Это ось Y\")\n",
    "plt.xlabel(r\"Это ось X, $F(x) = \\int f(x) dx + C$\")\n",
    "\n",
    "\n",
    "\n",
    "# Добавляем данные\n",
    "x = np.linspace(-1,1,100)\n",
    "y = x**3\n",
    "plt.plot(x,y, label=\"Синия линия\")\n",
    "\n",
    "# Еще данные\n",
    "x2 = x[::10]\n",
    "y2 = np.sin(x2)\n",
    "plt.plot(x2,y2, 'r^', label='Красные треугольники')\n",
    "# 'r^' - задает стиль линии - красные (red) треугольники (^), подробнее в документации\n",
    "\n",
    "# Данные с ошибками\n",
    "mu = np.sin(x2)\n",
    "sigma = np.abs(mu)**0.5\n",
    "y2 = np.random.normal(mu, sigma)\n",
    "# Можно рисовать ошибки\n",
    "plt.errorbar(x2,y2, yerr=sigma, xerr=0.1, fmt='.', label='Кресты') \n",
    "\n",
    "# Активируем сетку\n",
    "plt.grid(b=True, which='major', axis='both', alpha=1)\n",
    "plt.grid(b=True, which='minor', axis='both', alpha=0.5)\n",
    "\n",
    "# Активируем легенду графика\n",
    "plt.legend()\n",
    "# Внимание, запускаете вашу программу как сценарий, то что бы показать график\n",
    "# Используйте эту команду\n",
    "# plt.show()\n",
    "# Сохраняем изображение в текущую директорию\n",
    "plt.savefig('example.png')"
   ]
  },
  {
   "cell_type": "code",
   "execution_count": null,
   "metadata": {
    "id": "hmk4rYDOkuSc",
    "outputId": "fc68a3a7-46b6-4fb8-997f-c89e2c69a804"
   },
   "outputs": [],
   "source": [
    "# Логарифмический масштаб по оси x (аналогично для y)\n",
    "plt.xscale('log')\n",
    "plt.yscale('log')\n",
    "# Сетка\n",
    "plt.grid(True)\n",
    "# Добавляем данные\n",
    "x = np.linspace(0,100,100)\n",
    "y = x**3\n",
    "plt.plot(x,y,\"k--\", label=\"Синия линия\") # \"k--\" --- черная прерывистая линия"
   ]
  },
  {
   "cell_type": "markdown",
   "metadata": {
    "id": "LZlqluYWkuSc"
   },
   "source": [
    "## Общие замечания\n",
    "\n",
    "1. Не советуется сильно изменять стандартный размер фигуры, который равен `[6.4, 4.8]`. Тогда не потребуется подстраивать раземер шрифта.\n",
    "2. Попробуйте воспользоваться функцией `plt.tight_layout()`. Она *уберет* лишнее пустое пространство вокруг графика.\n",
    "3. Для передачи *сырых* строк стоит пользоваться `r\"my favorite $\\LaTeX$\"` $\\rightarrow$ my favorite $\\LaTeX$\n",
    "4. Для сохранения графиков можно воспользоваться функцией `plt.savefig()`. По умолчанию возможно сохранять в `.pdf/.jpg/.png` и так далее."
   ]
  },
  {
   "cell_type": "markdown",
   "metadata": {
    "id": "nnenSKeQkuSd"
   },
   "source": [
    "## Задание matplotlib\n",
    "\n",
    "1. Нарисуйте точками график $\\sin(x) x^{-2}$ для x со значениями от 0 до 100 с шагом 10\n",
    "2. Добавьте сетку и описание осей для предыдущего графика\n",
    "2. Нарисуйте непрерывной прямой график $e^{-x \\sin(x)}$ для x со значениями от 10 до 100\n",
    "3. Добавьте сетку и описание осей для предыдущего графика\n",
    "4. Добавьте мелкую сетку для предыдущего графика (опция `plt.minorticks_on()`\n",
    "5. Нарисуйте точками график $e^{x \\sin(x)}$ для x со значениями от 10 до 100\n",
    "6. \n",
    "7. Сделайте логарифмический масштаб по оси ординат. Отразите этот факт в подписи к оси\n",
    "8. Добавьте легенду точкам и подписи к графику\n",
    "\n",
    "Замечания:\n",
    "- Если указано сделать подпись осей, то нужно добавить подписи к двум осям графика\n",
    "- Если указано ссделать подписи к графику, то нужно добавить оглавление графика, легенду для точек и кривых, подписи к осям\n",
    "- Задания делать внутри следующей ячейки ноутбука. Если работаете в Pycharm, то сохраняйте в файлы `matplotlib_i.py`, где `i` указывает пункт задания.\n",
    "- Задания, или готовый ноутбук, сохранять в директории (папке) `classwork04`. **Никак иначе диеректорию не называть!**"
   ]
  },
  {
   "cell_type": "code",
   "execution_count": null,
   "metadata": {
    "colab": {
     "base_uri": "https://localhost:8080/",
     "height": 396
    },
    "id": "vRC5GYfA3fad",
    "outputId": "db210778-15b4-41d0-cc0d-eb82bd63658a"
   },
   "outputs": [],
   "source": [
    "import numpy as np\n",
    "import matplotlib.pyplot as plt\n",
    "import matplotlib as mpl\n",
    "import math\n",
    "\n",
    "\n",
    "#2\n",
    "plt.figure()\n",
    "plt.grid(True)\n",
    "\n",
    "plt.title('График 1')\n",
    "plt.ylabel('Y')\n",
    "plt.xlabel('X')\n",
    "#1\n",
    "x1 = np.linspace(0,100,10)\n",
    "y1 = [math.sin(x)*x**(-2) for x in x1]\n",
    "plt.plot(x1,y1, 'b', label='sin(x)*x**(-2)')\n",
    "\n",
    "#3\n",
    "plt.figure()\n",
    "\n",
    "#4\n",
    "plt.grid(True)\n",
    "plt.title('График 2')\n",
    "plt.ylabel('Y, log')\n",
    "plt.xlabel('X')\n",
    "\n",
    "#5\n",
    "plt.minorticks_on()\n",
    "\n",
    "#6\n",
    "x2 = np.linspace(10,100, 1000)\n",
    "y2 = [math.exp(x)**(-x*math.sin(x)) for x in x2]\n",
    "plt.plot(x2,y2, 'r', label='exp(x)**(-x*sin(x)')\n",
    "\n",
    "#8\n",
    "plt.yscale('log')\n",
    "\n",
    "#9\n",
    "plt.legend()\n"
   ]
  },
  {
   "cell_type": "code",
   "execution_count": null,
   "metadata": {
    "id": "Teb7wVWZ-8kR"
   },
   "outputs": [],
   "source": []
  },
  {
   "cell_type": "markdown",
   "metadata": {
    "id": "baP3rIE2kuSd"
   },
   "source": [
    "## Data Analysis\n",
    "\n",
    "Функция `fake_data_generator` выдает данные какого-то эксперимента. Но это не беда, ведь мы всегда можем обработать данные!\n",
    "\n",
    "Узнайте свой порядковый номер в группе и с помощью функции `get_numbers` получите свои входные значения для функции `fake_data_generator`.\n",
    "\n",
    "Полученные  экспериентальные данные используйте для нанесения на график. Затем попрбуйте *прикинуть* параметры прямой, которая могла бы проходить через экспериентальные точки.\n",
    "\n",
    "### План действий\n",
    "\n",
    "1. Сгенерируйте свои числа для задачи\n",
    "2. Нанесите точки на график. В качестве ошибок по `x` используйте половину расстояния между соседними точками. Для ошибок по `y` используйте корень квадратный от модуля значения. Добавьте легенду \"DATA\"\n",
    "3. Нанесите сетку на график\n",
    "4. Выделите штрихованную прямую синего цвета, которая выделяет средний уровень точек по оси абсцисс. Добавьте легенду со значением среднего \"mean x = \"\n",
    "5. Выделите штрих-пунктирную прямую красного цвета, которая выделяет средний уровень точек по оси ординат. Добавьте легенду со значением среднего \"mean y = \"\n",
    "6. Нарисуйте черным цветом прямую, которая примерно описывает данные на графике. Добавьте легенду \"fit\"\n",
    "7. Точки пересечения подгоночной кривой и средних значений выделить синим цветом\n",
    "8. Добавить описание для оси абсцисс $\\xi, cm\\rightarrow$ `$\\xi, cm$`\n",
    "9. Добавить описание для оси ординат $\\rho, mm^{-3}\\rightarrow$`$\\rho, mm^{-3}$`\n",
    "10. Легенду разместите в правом нижнем углу или же в верхнем правом"
   ]
  },
  {
   "cell_type": "code",
   "execution_count": null,
   "metadata": {
    "id": "EPjI-bQQkuSd"
   },
   "outputs": [],
   "source": [
    "import matplotlib\n",
    "from matplotlib import pyplot as plt\n",
    "\n",
    "matplotlib.rcParams.update(matplotlib.rcParamsDefault)\n",
    "\n",
    "\n",
    "def get_numbers(student):\n",
    "    return student, (student + 4) % 5 + 3, student % 2 * 10 + 12, (student % 5 * 3 + 7) * 3 \n",
    "\n",
    "def fake_data_generator(seed, vmin=0, vmax=10, size=100):\n",
    "    import numpy as np\n",
    "    np.random.seed(seed)\n",
    "    data = np.random.randint(vmin, vmax, size=20)\n",
    "    mean = data.mean()\n",
    "    std = data.std()\n",
    "    noise = np.random.normal(loc=mean, scale=std**.5, size=size)\n",
    "    fake_x = np.array([-5 + i * 20 / size for i in range(size)])\n",
    "    \n",
    "    linear = lambda x, k=(.5 - np.random.rand()) * 15, b=np.random.rand()*10: k * x + b\n",
    "    linear_data = linear(fake_x)\n",
    "    fake_y = linear_data + noise\n",
    "    return fake_x, fake_y"
   ]
  },
  {
   "cell_type": "code",
   "execution_count": null,
   "metadata": {
    "colab": {
     "base_uri": "https://localhost:8080/",
     "height": 391
    },
    "id": "ECfJD0AckuSd",
    "outputId": "efa6bd18-d70a-453e-c325-37c4a1acaf3e"
   },
   "outputs": [],
   "source": [
    "#sdelano v classwork05\n"
   ]
  }
 ],
 "metadata": {
  "colab": {
   "provenance": []
  },
  "kernelspec": {
   "display_name": "Python 3 (ipykernel)",
   "language": "python",
   "name": "python3"
  },
  "language_info": {
   "codemirror_mode": {
    "name": "ipython",
    "version": 3
   },
   "file_extension": ".py",
   "mimetype": "text/x-python",
   "name": "python",
   "nbconvert_exporter": "python",
   "pygments_lexer": "ipython3",
   "version": "3.8.11"
  }
 },
 "nbformat": 4,
 "nbformat_minor": 1
}
